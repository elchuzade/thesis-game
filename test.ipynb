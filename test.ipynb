{
 "cells": [
  {
   "cell_type": "code",
   "execution_count": 1,
   "metadata": {},
   "outputs": [
    {
     "name": "stdout",
     "output_type": "stream",
     "text": [
      "pygame 1.9.6\n",
      "Hello from the pygame community. https://www.pygame.org/contribute.html\n"
     ]
    }
   ],
   "source": [
    "from core import *"
   ]
  },
  {
   "cell_type": "code",
   "execution_count": 2,
   "metadata": {},
   "outputs": [
    {
     "name": "stdout",
     "output_type": "stream",
     "text": [
      "[0, 0, 0, 0, 0, 0, 0, 0, 0, 0, 0, 0, 0, 0, 0]\n",
      "[0, 0, 0, 0, 0, 0, 0, 0, 0, 0, 0, 0, 0, 0, 0]\n",
      "[0, 0, 2, 1, 1, 3, 4, 1, 3, 1, 1, 1, 3, 0, 0]\n",
      "[0, 0, 1, 3, 1, 1, 4, 1, 1, 3, 3, 1, 1, 0, 0]\n",
      "[0, 0, 1, 1, 4, 4, 4, 1, 4, 4, 4, 3, 5, 0, 0]\n",
      "[0, 0, 1, 1, 3, 1, 1, 1, 1, 1, 4, 3, 1, 0, 0]\n",
      "[0, 0, 1, 1, 1, 1, 1, 1, 3, 1, 4, 1, 1, 0, 0]\n",
      "[0, 0, 0, 0, 0, 0, 0, 0, 0, 0, 0, 0, 0, 0, 0]\n",
      "[0, 0, 0, 0, 0, 0, 0, 0, 0, 0, 0, 0, 0, 0, 0]\n"
     ]
    }
   ],
   "source": [
    "env = Game()"
   ]
  },
  {
   "cell_type": "code",
   "execution_count": 3,
   "metadata": {
    "scrolled": true
   },
   "outputs": [
    {
     "data": {
      "text/plain": [
       "[[0, 0, 0, 0, 0],\n",
       " [0, 0, 0, 0, 0],\n",
       " [0, 0, 2, 1, 1],\n",
       " [0, 0, 1, 3, 1],\n",
       " [0, 0, 1, 1, 4]]"
      ]
     },
     "execution_count": 3,
     "metadata": {},
     "output_type": "execute_result"
    }
   ],
   "source": [
    "env.get_gnome_vision()"
   ]
  },
  {
   "cell_type": "code",
   "execution_count": 4,
   "metadata": {},
   "outputs": [
    {
     "data": {
      "text/plain": [
       "[0, 0, 0, 0, 0, 0, 0, 0, 0, 0, 0, 0, 2, 1, 1, 0, 0, 1, 3, 1, 0, 0, 1, 1, 4]"
      ]
     },
     "execution_count": 4,
     "metadata": {},
     "output_type": "execute_result"
    }
   ],
   "source": [
    "env.get_gnome_vision_flat()"
   ]
  },
  {
   "cell_type": "code",
   "execution_count": 5,
   "metadata": {},
   "outputs": [
    {
     "name": "stdout",
     "output_type": "stream",
     "text": [
      "step counter - 1\n",
      "step counter - 2\n",
      "step counter - 3\n"
     ]
    }
   ],
   "source": [
    "env.step(3)\n",
    "env.step(3)\n",
    "env.step(3)"
   ]
  },
  {
   "cell_type": "code",
   "execution_count": 6,
   "metadata": {
    "scrolled": true
   },
   "outputs": [
    {
     "name": "stdout",
     "output_type": "stream",
     "text": [
      "step counter - 4\n",
      "collected gold -  1\n",
      "step counter - 5\n",
      "step counter - 6\n",
      "step counter - 7\n",
      "step counter - 8\n"
     ]
    }
   ],
   "source": [
    "env.step(2)\n",
    "env.step(2)\n",
    "env.step(2)\n",
    "env.step(2)\n",
    "env.step(2)"
   ]
  },
  {
   "cell_type": "code",
   "execution_count": 7,
   "metadata": {},
   "outputs": [
    {
     "name": "stdout",
     "output_type": "stream",
     "text": [
      "step counter - 9\n",
      "step counter - 10\n"
     ]
    }
   ],
   "source": [
    "env.step(1)\n",
    "env.step(1)"
   ]
  },
  {
   "cell_type": "code",
   "execution_count": 8,
   "metadata": {},
   "outputs": [
    {
     "name": "stdout",
     "output_type": "stream",
     "text": [
      "step counter - 11\n",
      "collected gold -  2\n",
      "step counter - 12\n",
      "collected gold -  3\n",
      "step counter - 13\n",
      "step counter - 14\n"
     ]
    }
   ],
   "source": [
    "env.step(2)\n",
    "env.step(2)\n",
    "env.step(2)\n",
    "env.step(2)"
   ]
  },
  {
   "cell_type": "code",
   "execution_count": 9,
   "metadata": {},
   "outputs": [
    {
     "name": "stdout",
     "output_type": "stream",
     "text": [
      "collected gold -  4\n",
      "step counter - 15\n"
     ]
    }
   ],
   "source": [
    "env.step(3)"
   ]
  },
  {
   "cell_type": "code",
   "execution_count": 10,
   "metadata": {},
   "outputs": [
    {
     "name": "stdout",
     "output_type": "stream",
     "text": [
      "step counter - 16\n"
     ]
    }
   ],
   "source": [
    "env.step(2)"
   ]
  },
  {
   "cell_type": "code",
   "execution_count": 11,
   "metadata": {},
   "outputs": [
    {
     "data": {
      "text/plain": [
       "[[0, 0, 0, 0, 0, 0, 0, 0, 0, 0, 0, 0, 0, 0, 0],\n",
       " [0, 0, 0, 0, 0, 0, 0, 0, 0, 0, 0, 0, 0, 0, 0],\n",
       " [0, 0, 1, 1, 1, 3, 4, 1, 3, 1, 1, 1, 3, 0, 0],\n",
       " [0, 0, 1, 3, 1, 1, 4, 1, 1, 1, 1, 1, 1, 0, 0],\n",
       " [0, 0, 1, 1, 4, 4, 4, 1, 4, 4, 4, 1, 2, 0, 0],\n",
       " [0, 0, 1, 1, 1, 1, 1, 1, 1, 1, 4, 3, 1, 0, 0],\n",
       " [0, 0, 1, 1, 1, 1, 1, 1, 3, 1, 4, 1, 1, 0, 0],\n",
       " [0, 0, 0, 0, 0, 0, 0, 0, 0, 0, 0, 0, 0, 0, 0],\n",
       " [0, 0, 0, 0, 0, 0, 0, 0, 0, 0, 0, 0, 0, 0, 0]]"
      ]
     },
     "execution_count": 11,
     "metadata": {},
     "output_type": "execute_result"
    }
   ],
   "source": [
    "env.map"
   ]
  },
  {
   "cell_type": "code",
   "execution_count": null,
   "metadata": {},
   "outputs": [],
   "source": []
  }
 ],
 "metadata": {
  "kernelspec": {
   "display_name": "Python 3",
   "language": "python",
   "name": "python3"
  },
  "language_info": {
   "codemirror_mode": {
    "name": "ipython",
    "version": 3
   },
   "file_extension": ".py",
   "mimetype": "text/x-python",
   "name": "python",
   "nbconvert_exporter": "python",
   "pygments_lexer": "ipython3",
   "version": "3.7.4"
  }
 },
 "nbformat": 4,
 "nbformat_minor": 2
}
